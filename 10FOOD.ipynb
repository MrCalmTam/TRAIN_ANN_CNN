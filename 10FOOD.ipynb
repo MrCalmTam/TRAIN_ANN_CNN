{
  "nbformat": 4,
  "nbformat_minor": 0,
  "metadata": {
    "colab": {
      "private_outputs": true,
      "provenance": [],
      "authorship_tag": "ABX9TyOYgPEcws3G88Ik7ZAmDd3a",
      "include_colab_link": true
    },
    "kernelspec": {
      "name": "python3",
      "display_name": "Python 3"
    },
    "language_info": {
      "name": "python"
    },
    "accelerator": "GPU",
    "gpuClass": "standard"
  },
  "cells": [
    {
      "cell_type": "markdown",
      "metadata": {
        "id": "view-in-github",
        "colab_type": "text"
      },
      "source": [
        "<a href=\"https://colab.research.google.com/github/MrCalmTam/TRAIN_ANN_CNN/blob/main/10FOOD.ipynb\" target=\"_parent\"><img src=\"https://colab.research.google.com/assets/colab-badge.svg\" alt=\"Open In Colab\"/></a>"
      ]
    },
    {
      "cell_type": "code",
      "execution_count": null,
      "metadata": {
        "id": "e-t2smt1lXQ5"
      },
      "outputs": [],
      "source": [
        "from os import listdir\n",
        "from numpy import asarray, save\n",
        "from keras.utils import load_img\n",
        "from keras.utils import img_to_array\n",
        "import numpy as np\n",
        "from sklearn.model_selection import train_test_split\n",
        "from keras.datasets import cifar100\n",
        "import matplotlib.pyplot as plt\n",
        "from keras.layers import Dense, Dropout, Flatten, Conv2D, MaxPooling2D, Normalization\n",
        "from keras.models import Sequential, Model\n",
        "from keras import Input\n",
        "from keras.layers import LeakyReLU\n",
        "from keras.optimizers import Adam"
      ]
    },
    {
      "cell_type": "code",
      "source": [
        "from google.colab import drive\n",
        "drive.mount('/content/drive')"
      ],
      "metadata": {
        "id": "m92KL91Zlpsx"
      },
      "execution_count": null,
      "outputs": []
    },
    {
      "cell_type": "code",
      "source": [
        "from numpy import asarray\n",
        "\n",
        "folder = '/content/drive/MyDrive/Colab Notebooks/TOP10AMTHUCVN/'\n",
        "photos, labels = list(), list()\n",
        "for file in listdir(folder):\n",
        "  output = 0.0\n",
        "  if file.startswith('BANHMI'):\n",
        "    output = 0\n",
        "  if file.startswith('BUNDAUMAMTOM'):\n",
        "    output = 1\n",
        "  if file.startswith('BX'):\n",
        "    output = 2\n",
        "  if file.startswith('C'):\n",
        "    output = 3\n",
        "  if file.startswith('CHEDAUDEN'):\n",
        "    output = 4\n",
        "  if file.startswith('ECHXAO'):\n",
        "    output = 5\n",
        "  if file.startswith('HEOQUAY'):\n",
        "    output = 6\n",
        "  if file.startswith('HUTIEU'):\n",
        "    output = 7\n",
        "  if file.startswith('MIQUANG'):\n",
        "    output = 8\n",
        "  if file.startswith('CHEDAUXANH'):\n",
        "    output = 9\n",
        "  photo = load_img(folder + file, target_size=(200, 200))\n",
        "  photo = img_to_array(photo)\n",
        "  photos.append(photo)\n",
        "  labels.append(output)\n",
        "photos = asarray(photos)\n",
        "labels = asarray(labels)\n",
        "print(photos.shape, labels.shape)\n",
        "save('/content/drive/MyDrive/Colab Notebooks/TOP10AMTHUCVN/TOP10AMTHUCVN_PHOTOS', photos)\n",
        "save('/content/drive/MyDrive/Colab Notebooks/TOP10AMTHUCVN/TOP10AMTHUCVN_LABELS', labels)"
      ],
      "metadata": {
        "id": "o-wLbuyGlscQ"
      },
      "execution_count": null,
      "outputs": []
    },
    {
      "cell_type": "code",
      "source": [
        "# Load images and labels\n",
        "from keras.utils import to_categorical #one hot encoding\n",
        "photos = np.load('/content/drive/MyDrive/Colab Notebooks/TOP10AMTHUCVN/TOP10AMTHUCVN_PHOTOS.npy')\n",
        "labels = np.load('/content/drive/MyDrive/Colab Notebooks/TOP10AMTHUCVN/TOP10AMTHUCVN_LABELS.npy')\n",
        "labels_one_hot = to_categorical(labels)\n",
        "x_train, x_test, y_train, y_test = train_test_split(photos, labels_one_hot, test_size = 0.3, random_state = 100)"
      ],
      "metadata": {
        "id": "_Z7HRf9HpWSy"
      },
      "execution_count": null,
      "outputs": []
    },
    {
      "cell_type": "code",
      "source": [
        "y_train.shape"
      ],
      "metadata": {
        "id": "rS6nhfKE0KV7"
      },
      "execution_count": null,
      "outputs": []
    },
    {
      "cell_type": "code",
      "source": [
        "model = Sequential()\n",
        "#Convolutional\n",
        "model.add(Conv2D(8, kernel_size= (3,3), activation= 'relu', input_shape = (200,200,3), padding= 'same'))\n",
        "model.add(MaxPooling2D((2,2), padding= 'same'))\n",
        "\n",
        "model.add(Conv2D(16, kernel_size= (3,3), activation= 'relu', padding= 'same'))\n",
        "model.add(MaxPooling2D((2,2), padding= 'same'))\n",
        "\n",
        "model.add(Conv2D(32, kernel_size= (3,3), activation= 'relu', padding= 'same'))\n",
        "model.add(Conv2D(32, kernel_size= (3,3), activation= 'relu', padding= 'same'))\n",
        "model.add(MaxPooling2D((2,2), padding= 'same'))\n",
        "\n",
        "model.add(Conv2D(64, kernel_size= (3,3), activation= 'relu', padding= 'same'))\n",
        "model.add(Conv2D(64, kernel_size= (3,3), activation= 'relu', padding= 'same'))\n",
        "model.add(MaxPooling2D((2,2), padding= 'same'))\n",
        "\n",
        "# Fully connected layers\n",
        "model.add(Flatten())\n",
        "model.add(Dense(512, activation= 'relu'))\n",
        "model.add(Dropout(0.5))\n",
        "model.add(Dense(512, activation= 'relu'))\n",
        "model.add(Dropout(0.5))\n",
        "model.add(Dense(10, activation= 'softmax'))\n",
        "model.compile(loss='categorical_crossentropy', optimizer = Adam(), metrics=['accuracy'])\n",
        "model.summary()"
      ],
      "metadata": {
        "id": "aE_QVE72p7ZO"
      },
      "execution_count": null,
      "outputs": []
    },
    {
      "cell_type": "code",
      "source": [
        "from keras.preprocessing.image import ImageDataGenerator\n",
        "aug = ImageDataGenerator(rotation_range=220, zoom_range=0.1,\n",
        "    rescale=1./255,\n",
        "\twidth_shift_range=0.1,\n",
        "    height_shift_range=0.1,\n",
        "\thorizontal_flip=True,\n",
        "    brightness_range=[0.2,1.5], fill_mode=\"nearest\")"
      ],
      "metadata": {
        "id": "umXE3Z5ep-Zo"
      },
      "execution_count": null,
      "outputs": []
    },
    {
      "cell_type": "code",
      "source": [
        "y_train.shape"
      ],
      "metadata": {
        "id": "hXgwkJy0qARe"
      },
      "execution_count": null,
      "outputs": []
    },
    {
      "cell_type": "code",
      "source": [
        "x_train.shape"
      ],
      "metadata": {
        "id": "fQ350Z9eyYDl"
      },
      "execution_count": null,
      "outputs": []
    },
    {
      "cell_type": "code",
      "source": [
        "train = model.fit_generator(aug.flow(x_train, y_train, batch_size=128),\n",
        "                               epochs=100,\n",
        "                               validation_data=aug.flow(x_test,y_test,\n",
        "                               batch_size=len(x_test)))"
      ],
      "metadata": {
        "id": "IwdbrHv3qEc_"
      },
      "execution_count": null,
      "outputs": []
    },
    {
      "cell_type": "code",
      "source": [
        "test_loss, test_acc = model.evaluate(x_test, y_test)\n",
        "print(\"Accuracy:\", test_acc)\n",
        "print('Loss:', test_loss)"
      ],
      "metadata": {
        "id": "fBtS1AaQtgt2"
      },
      "execution_count": null,
      "outputs": []
    },
    {
      "cell_type": "code",
      "source": [
        "accuracy = train.history['accuracy']\n",
        "loss = train.history['loss']\n",
        "epochs = range(len(accuracy))\n",
        "plt.plot(epochs, accuracy, 'bo', label = 'Training accuracy')\n",
        "plt.plot(epochs, loss, 'b', label = 'Traning loss')\n",
        "plt.show()"
      ],
      "metadata": {
        "id": "gMboDA-Dtjxf"
      },
      "execution_count": null,
      "outputs": []
    },
    {
      "cell_type": "code",
      "source": [
        "#Save model\n",
        "model.save('/content/drive/MyDrive/Colab Notebooks/TOP10AMTHUCVN/MODEL_TOP10AMTHUCVN.H6')"
      ],
      "metadata": {
        "id": "polrJB4oISe8"
      },
      "execution_count": null,
      "outputs": []
    },
    {
      "cell_type": "code",
      "source": [
        "from keras.models import load_model\n",
        "model = load_model('/content/drive/MyDrive/Colab Notebooks/TOP10AMTHUCVN/MODEL_TOP10AMTHUCVN.H6')"
      ],
      "metadata": {
        "id": "Uth22-hMIaVX"
      },
      "execution_count": null,
      "outputs": []
    },
    {
      "cell_type": "code",
      "source": [
        "from keras.utils import load_img\n",
        "from keras.utils import img_to_array\n",
        "from pylab import *\n",
        "url = '/content/drive/MyDrive/Colab Notebooks/TOP10AMTHUCVNFORTEST'\n",
        "j = 0\n",
        "for i in listdir(url):\n",
        "  if j < 20 :\n",
        "    img = load_img(url + '/' + i, target_size = (200,200))\n",
        "    imshow(img)\n",
        "    img = img_to_array(img)\n",
        "    img = img.reshape(1,200,200,3)\n",
        "    img = img.astype('float32')\n",
        "    img = img/255\n",
        "    a = model.predict(img).argmax()\n",
        "    class_name = ['Mon an: BANHMI', 'Mon an: BUNDAUUMAMTOM','Mon an: BX','Mon an: C','Mon an: CHEDAUDEN','Mon an: CHEDAUXANH',\n",
        "                  'Mon an: ECHXAO','Mon an: HEOQUAY', 'Mon an: HUTIEU','Mon an: MIQUANG' ]\n",
        "    j =  j + 1\n",
        "    print(class_name[a])\n",
        "    plt.show()\n",
        "  else :\n",
        "    print ('KET THUC')\n"
      ],
      "metadata": {
        "id": "Tf9YwJ-EItfl"
      },
      "execution_count": null,
      "outputs": []
    }
  ]
}